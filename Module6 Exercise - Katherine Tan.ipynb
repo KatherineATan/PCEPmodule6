{
 "cells": [
  {
   "cell_type": "markdown",
   "metadata": {},
   "source": [
    "### Exercise 1\n",
    "Convert following decimal number to a binary number by hand:\n",
    "\n",
    "    61\n",
    "    15\n",
    "    71\n",
    "    "
   ]
  },
  {
   "cell_type": "code",
   "execution_count": 1,
   "metadata": {},
   "outputs": [
    {
     "name": "stdout",
     "output_type": "stream",
     "text": [
      "00111101\n",
      "00001111\n",
      "01000111\n"
     ]
    }
   ],
   "source": [
    "def dec_to_bin(dec_numb) :\n",
    "    _0 = dec_numb % 2\n",
    "    _1 = (dec_numb // 2) % 2\n",
    "    _2 = (dec_numb // 4) % 2\n",
    "    _3 = (dec_numb // 8) % 2\n",
    "    _4 = (dec_numb // 16) % 2\n",
    "    _5 = (dec_numb // 32) % 2\n",
    "    _6 = (dec_numb // 64) % 2\n",
    "    _7 = (dec_numb // 128) % 2\n",
    "    decprint = f\"{_7}{_6}{_5}{_4}{_3}{_2}{_1}{_0}\"\n",
    "    return decprint\n",
    "\n",
    "_61 = dec_to_bin(61)\n",
    "_15 = dec_to_bin(15)\n",
    "_71 = dec_to_bin(71)\n",
    "print(_61)\n",
    "print(_15)\n",
    "print(_71)"
   ]
  },
  {
   "cell_type": "markdown",
   "metadata": {},
   "source": [
    "### Exercise 2\n",
    "When a = 61 and b = 15, what is the result of following bitwise opertion? Use inline comments to show your result in a binary number. Find your answer by hand.\n",
    "\n",
    "    a & b\n",
    "    a | b\n",
    "    a ^ b\n",
    "    a >> 2\n",
    "    "
   ]
  },
  {
   "cell_type": "code",
   "execution_count": 2,
   "metadata": {},
   "outputs": [
    {
     "name": "stdout",
     "output_type": "stream",
     "text": [
      "00111101\n",
      "00001111\n"
     ]
    }
   ],
   "source": [
    "# convert a in to a binary number\n",
    "a = 61\n",
    "ab = dec_to_bin(a)\n",
    "print(ab)\n",
    "# convert b in to a binary number\n",
    "b = 15\n",
    "bb = dec_to_bin(b)\n",
    "print(bb)"
   ]
  },
  {
   "cell_type": "code",
   "execution_count": 3,
   "metadata": {},
   "outputs": [
    {
     "name": "stdout",
     "output_type": "stream",
     "text": [
      "00001101\n",
      "13\n"
     ]
    }
   ],
   "source": [
    "# a & b\n",
    "\n",
    "\n",
    "def andop(ch) :\n",
    "    if ab[ch] == \"1\" and bb[ch] == \"1\" :\n",
    "        aresult = 1\n",
    "    else :\n",
    "        aresult = 0\n",
    "    return aresult\n",
    "        \n",
    "aresult7 = andop(0)\n",
    "aresult6 = andop(1)\n",
    "aresult5 = andop(2)\n",
    "aresult4 = andop(3)\n",
    "aresult3 = andop(4)\n",
    "aresult2 = andop(5)\n",
    "aresult1 = andop(6)\n",
    "aresult0 = andop(7)\n",
    "\n",
    "print(aresult7, aresult6, aresult5, aresult4, aresult3, aresult2, aresult1, aresult0, sep=\"\")\n",
    "\n",
    "andtest = a & b   \n",
    "print(andtest)"
   ]
  },
  {
   "cell_type": "code",
   "execution_count": 4,
   "metadata": {},
   "outputs": [
    {
     "name": "stdout",
     "output_type": "stream",
     "text": [
      "00111111\n",
      "63\n"
     ]
    }
   ],
   "source": [
    "# a | b\n",
    "\n",
    "def orop(ch) :\n",
    "    if ab[ch] == \"1\" or bb[ch] == \"1\" :\n",
    "        oresult = 1\n",
    "    else :\n",
    "        oresult = 0\n",
    "    return oresult\n",
    "        \n",
    "oresult7 = orop(0)\n",
    "oresult6 = orop(1)\n",
    "oresult5 = orop(2)\n",
    "oresult4 = orop(3)\n",
    "oresult3 = orop(4)\n",
    "oresult2 = orop(5)\n",
    "oresult1 = orop(6)\n",
    "oresult0 = orop(7)\n",
    "\n",
    "print(oresult7, oresult6, oresult5, oresult4, oresult3, oresult2, oresult1, oresult0, sep=\"\")\n",
    "\n",
    "ortest = a | b \n",
    "print(ortest)"
   ]
  },
  {
   "cell_type": "code",
   "execution_count": 5,
   "metadata": {},
   "outputs": [
    {
     "name": "stdout",
     "output_type": "stream",
     "text": [
      "00110010\n",
      "50\n"
     ]
    }
   ],
   "source": [
    "# a ^ b\n",
    "\n",
    "def xorop(ch) :\n",
    "    if ab[ch] == bb[ch] :\n",
    "        xoresult = 0\n",
    "    else :\n",
    "        xoresult = 1\n",
    "    return xoresult\n",
    "        \n",
    "xresult7 = xorop(0)\n",
    "xresult6 = xorop(1)\n",
    "xresult5 = xorop(2)\n",
    "xresult4 = xorop(3)\n",
    "xresult3 = xorop(4)\n",
    "xresult2 = xorop(5)\n",
    "xresult1 = xorop(6)\n",
    "xresult0 = xorop(7)\n",
    "\n",
    "print(xresult7, xresult6, xresult5, xresult4, xresult3, xresult2, xresult1, xresult0, sep=\"\")\n",
    "\n",
    "xortest = a ^ b\n",
    "print(xortest)"
   ]
  },
  {
   "cell_type": "code",
   "execution_count": 6,
   "metadata": {},
   "outputs": [
    {
     "name": "stdout",
     "output_type": "stream",
     "text": [
      "00001111\n",
      "15\n"
     ]
    }
   ],
   "source": [
    "# a >> 2\n",
    "\n",
    "def srop(binnumb) :\n",
    "    binnumb = int(binnumb)\n",
    "    binnumb -= 109990\n",
    "    binnumb = str(binnumb)\n",
    "    new = \"0\"*4 + binnumb\n",
    "    return new\n",
    "        \n",
    "sresult = srop(ab)\n",
    "\n",
    "print(sresult)\n",
    "\n",
    "srtest = a >> 2\n",
    "print(srtest)"
   ]
  },
  {
   "cell_type": "markdown",
   "metadata": {},
   "source": [
    "### Exercise 3\n",
    "Ask a user for a code and store that answer. \n",
    "If the answer is <b>grey</b> then print \"You found secret code.\"\n",
    "Otherwise print that the entered code is not the secret code."
   ]
  },
  {
   "cell_type": "code",
   "execution_count": 7,
   "metadata": {},
   "outputs": [
    {
     "name": "stdout",
     "output_type": "stream",
     "text": [
      "Enter the code word: grey\n",
      "You found the secret code!\n"
     ]
    }
   ],
   "source": [
    "\n",
    "def check(code) :\n",
    "    lcode = code.lower()\n",
    "    if lcode == \"grey\" :\n",
    "        print(\"You found the secret code!\")\n",
    "    else :\n",
    "        print(\"The entered code is not the secret code.\")\n",
    "        \n",
    "input_code = input(\"Enter the code word: \")\n",
    "        \n",
    "call = check(input_code)"
   ]
  },
  {
   "cell_type": "markdown",
   "metadata": {},
   "source": [
    "### Exercise 4\n",
    "Ask for an exam score and store that number. If the number is greater than 100, then print out 'You cannot have an exam score higher than 100'. If the number doesn't exceeed 100 but is greater than or equal to 75, then print out 'You did great on your exam!'. Otherwise if they scored lower than 75, then print out 'You need to study harder'."
   ]
  },
  {
   "cell_type": "code",
   "execution_count": 8,
   "metadata": {},
   "outputs": [
    {
     "name": "stdout",
     "output_type": "stream",
     "text": [
      "What is your exam score? 75\n",
      "You did great on your exam!\n"
     ]
    }
   ],
   "source": [
    "user_score = int(input(\"What is your exam score? \"))\n",
    "\n",
    "if user_score > 100 : \n",
    "    print(\"You cannot have an exam score higher than 100.\")\n",
    "elif user_score >= 75 :\n",
    "    print(\"You did great on your exam!\")\n",
    "else :\n",
    "    print(\"You need to study harder.\")\n"
   ]
  },
  {
   "cell_type": "markdown",
   "metadata": {},
   "source": [
    "### Exercise 5\n",
    "Write a function to convert a test score to a grade where  \n",
    " - 90 - 100: A\n",
    " - 80 - 89:  B\n",
    " - 70 - 79:  C\n",
    " - 60 - 69:  D\n",
    " - < 60   :  F\n",
    " \n",
    "If a score is not between 0 and 100 then print out an error message. In the program, ask the user for a score and then call your function. "
   ]
  },
  {
   "cell_type": "code",
   "execution_count": 9,
   "metadata": {},
   "outputs": [],
   "source": [
    "# define your function\n",
    "def convert(test_score):\n",
    "    if test_score > 100 :\n",
    "        print(\"Your test score can't be above 100.\")\n",
    "    elif test_score >= 90 :\n",
    "        print(\"Your grade is an A.\")\n",
    "    elif test_score >= 80 :\n",
    "        print(\"Your grade is a B.\")\n",
    "    elif test_score >= 70 :\n",
    "        print(\"Your grade is a C.\")\n",
    "    elif test_score >= 60 :\n",
    "        print(\"Your grade is a D.\")\n",
    "    elif test_score >= 0 :\n",
    "        print(\"Your grade is a F.\")\n",
    "    else :\n",
    "        print(\"Your test score can't be below 0.\")"
   ]
  },
  {
   "cell_type": "code",
   "execution_count": 10,
   "metadata": {},
   "outputs": [
    {
     "name": "stdout",
     "output_type": "stream",
     "text": [
      "What is your test score? 0\n",
      "Your grade is a F.\n"
     ]
    }
   ],
   "source": [
    "# ask the user for a score and then call your function\n",
    "user_score = int(input(\"What is your test score? \"))\n",
    "\n",
    "user_grade = convert(user_score)\n"
   ]
  },
  {
   "cell_type": "code",
   "execution_count": null,
   "metadata": {},
   "outputs": [],
   "source": []
  }
 ],
 "metadata": {
  "kernelspec": {
   "display_name": "Python 3",
   "language": "python",
   "name": "python3"
  },
  "language_info": {
   "codemirror_mode": {
    "name": "ipython",
    "version": 3
   },
   "file_extension": ".py",
   "mimetype": "text/x-python",
   "name": "python",
   "nbconvert_exporter": "python",
   "pygments_lexer": "ipython3",
   "version": "3.8.8"
  }
 },
 "nbformat": 4,
 "nbformat_minor": 4
}
